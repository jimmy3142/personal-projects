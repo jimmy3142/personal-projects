{
 "cells": [
  {
   "cell_type": "code",
   "execution_count": null,
   "id": "c2a394e5d95e8560",
   "metadata": {
    "collapsed": false
   },
   "outputs": [],
   "source": [
    "import os\n",
    "import polars as pl\n",
    "import polars.selectors as cs\n",
    "from sklearn.model_selection import train_test_split\n",
    "from sklearn.feature_extraction import DictVectorizer\n",
    "from sklearn.ensemble import RandomForestClassifier\n",
    "from sklearn.pipeline import make_pipeline\n",
    "from sklearn.metrics import mean_squared_error\n",
    "import seaborn as sns\n",
    "import matplotlib.pyplot as plt\n",
    "import mlflow\n",
    "from hyperopt import fmin, tpe, hp, STATUS_OK, Trials\n",
    "from hyperopt.pyll import scope"
   ]
  },
  {
   "cell_type": "code",
   "execution_count": null,
   "id": "c2fdbf23575e9f0e",
   "metadata": {
    "collapsed": false
   },
   "outputs": [],
   "source": [
    "# adding this because of a bug. See similar issue here: https://github.com/pypa/setuptools/issues/3297\n",
    "os.environ[\"SETUPTOOLS_USE_DISTUTILS\"] = \"stdlib\""
   ]
  },
  {
   "cell_type": "code",
   "execution_count": null,
   "id": "f43a612ed94b6ff2",
   "metadata": {
    "collapsed": false
   },
   "outputs": [],
   "source": [
    "MLFLOW_TRACKING_URI = \"http://localhost:5001\"\n",
    "mlflow.set_tracking_uri(MLFLOW_TRACKING_URI)\n",
    "mlflow.set_experiment(\"credit-card-fraud-detection\")"
   ]
  },
  {
   "cell_type": "markdown",
   "id": "79458b658ec5a7e9",
   "metadata": {
    "collapsed": false
   },
   "source": [
    "<h2> <class=\"myText\"> Notebook links </h2>\n",
    "<p> <class=\"myText\"> <em> (Note, these links don't tend to work when you open the notebook in PyCharm, for example. Open the notebook in your browser to navigate the notebook using the links)</em> </p>\n",
    "\n",
    "<p> 1. <a href=\"#data_preparation\">Data preparation</a></p>\n",
    "<p> 2. <a href=\"#validation_framework_setup\">Setting up the validation framework</a></p>\n",
    "<p> 3. <a href=\"#eda\">Exploratory data analysis</a></p>\n",
    "<ul>\n",
    "    <li><a href=\"#feature_importance\">Feature importance</a></li>\n",
    "</ul>\n",
    "<p> 4. <a href=\"#encoding\">One-hot encoding</a></p>\n",
    "<p> 5. <a href=\"#model_training\">Model training</a></p>\n",
    "<ul>\n",
    "    <li><a href=\"#random_forest\">Random Forest</a></li>\n",
    "</ul>\n",
    "<p> 6. <a href=\"#final_training\">Train the final model</a></p>"
   ]
  },
  {
   "cell_type": "markdown",
   "id": "9bf41b1b2a166f09",
   "metadata": {
    "collapsed": false
   },
   "source": [
    "# Data preparation <a name = \"data_preparation\"></a>"
   ]
  },
  {
   "cell_type": "code",
   "execution_count": null,
   "id": "2dc3cdee7e2bbe41",
   "metadata": {
    "collapsed": false
   },
   "outputs": [],
   "source": [
    "# download the dataset from here: (https://www.kaggle.com/datasets/nelgiriyewithana/credit-card-fraud-detection-dataset-2023?resource=download).\n",
    "df = (\n",
    "    pl.scan_csv(\"../data/creditcard_2023.csv\")\n",
    "    .select(pl.all().shrink_dtype().name.to_lowercase())\n",
    "    .rename({\"class\": \"is_fraud\"})\n",
    ").collect()"
   ]
  },
  {
   "cell_type": "code",
   "execution_count": null,
   "id": "1649e4e936aecc14",
   "metadata": {
    "collapsed": false
   },
   "outputs": [],
   "source": [
    "df.describe()"
   ]
  },
  {
   "cell_type": "markdown",
   "id": "f843d692deed4c6b",
   "metadata": {
    "collapsed": false
   },
   "source": [
    "# Setting up the validation framework <a name = \"validation_framework_setup\"></a>"
   ]
  },
  {
   "cell_type": "code",
   "execution_count": null,
   "id": "505bbdc37cfc1822",
   "metadata": {
    "collapsed": false
   },
   "outputs": [],
   "source": [
    "df_full_train, df_test = train_test_split(\n",
    "    df, test_size=0.2, shuffle=True, random_state=11\n",
    ")\n",
    "df_train, df_val = train_test_split(\n",
    "    df_full_train, test_size=0.25, shuffle=True, random_state=11\n",
    ")\n",
    "\n",
    "# y_train = df_train.select(\"class\").to_numpy().flatten()\n",
    "y_train = df_train.select(\"is_fraud\").to_pandas().values\n",
    "y_val = df_val.select(\"is_fraud\").to_numpy().flatten()\n",
    "y_test = df_test.select(\"is_fraud\").to_numpy().flatten()\n",
    "\n",
    "df_train = df_train.drop(\"is_fraud\")\n",
    "df_val = df_val.drop(\"is_fraud\")"
   ]
  },
  {
   "cell_type": "markdown",
   "id": "e2e0d65a642dc064",
   "metadata": {
    "collapsed": false
   },
   "source": [
    "# Exploratory data analysis <a name = \"eda\"></a>"
   ]
  },
  {
   "cell_type": "code",
   "execution_count": null,
   "id": "94392e07a375dce9",
   "metadata": {
    "collapsed": false
   },
   "outputs": [],
   "source": [
    "# check for nulls\n",
    "df.null_count()"
   ]
  },
  {
   "cell_type": "markdown",
   "id": "65aceb69bdf06a40",
   "metadata": {
    "collapsed": false
   },
   "source": [
    "## Feature importance <a name = \"feature_importance\"></a>"
   ]
  },
  {
   "cell_type": "code",
   "execution_count": null,
   "id": "27c6ed4f25d9acc4",
   "metadata": {
    "collapsed": false
   },
   "outputs": [],
   "source": [
    "categorical = df_train.select(cs.string()).columns\n",
    "numerical = df_train.select(cs.numeric()).columns"
   ]
  },
  {
   "cell_type": "code",
   "execution_count": null,
   "id": "2b28325cacc7b33c",
   "metadata": {
    "collapsed": false
   },
   "outputs": [],
   "source": [
    "# check correlation coefficients between columns. Visualise this in a heatmap by creating a correlation matrix between all the numerical features\n",
    "plt.figure(figsize=(20, 15))\n",
    "sns.heatmap(\n",
    "    df_full_train[numerical + [\"is_fraud\"]].corr(),\n",
    "    annot=True,\n",
    "    linewidths=0.5,\n",
    "    cmap=\"coolwarm\",\n",
    "    fmt=\".2f\",\n",
    "    xticklabels=df_full_train[numerical + [\"is_fraud\"]].columns,\n",
    "    yticklabels=df_full_train[numerical + [\"is_fraud\"]].columns,\n",
    ")\n",
    "plt.title(\"Heatmap showing correlations between numerical data\")\n",
    "plt.show()"
   ]
  },
  {
   "cell_type": "code",
   "execution_count": null,
   "id": "bfe05eb237d86a02",
   "metadata": {
    "collapsed": false
   },
   "outputs": [],
   "source": [
    "df_train.select(categorical).head()"
   ]
  },
  {
   "cell_type": "code",
   "execution_count": null,
   "id": "29991f137383bf6b",
   "metadata": {
    "collapsed": false
   },
   "outputs": [],
   "source": [
    "df.select(numerical).head()"
   ]
  },
  {
   "cell_type": "code",
   "execution_count": null,
   "id": "48335e1fb68e6bc7",
   "metadata": {
    "collapsed": false
   },
   "outputs": [],
   "source": [
    "# note, I have included numerical variables as well here, but the DictVectorizer is smart enough to recognise that\n",
    "dicts_train = df_train.select(categorical + numerical).to_dicts()"
   ]
  },
  {
   "cell_type": "code",
   "execution_count": null,
   "id": "27f4161d320206e2",
   "metadata": {
    "collapsed": false
   },
   "outputs": [],
   "source": [
    "dicts_val = df_val.select(categorical + numerical).to_dicts()"
   ]
  },
  {
   "cell_type": "markdown",
   "id": "4cc3c1a53a80c481",
   "metadata": {
    "collapsed": false
   },
   "source": [
    "# Model training <a name = \"model_training\"></a>"
   ]
  },
  {
   "cell_type": "markdown",
   "id": "266463bf3efd90b5",
   "metadata": {
    "collapsed": false
   },
   "source": [
    "### Random Forest <a name = \"random_forest\"></a>"
   ]
  },
  {
   "cell_type": "code",
   "execution_count": null,
   "id": "a75296506080c9ed",
   "metadata": {
    "collapsed": false
   },
   "outputs": [],
   "source": [
    "# hyperparameter running let's tune the max_depth parameter first\n",
    "\n",
    "\n",
    "def objective(params):\n",
    "    with mlflow.start_run():\n",
    "        mlflow.set_tag(\"developer\", \"james\")\n",
    "        mlflow.set_tag(\"model\", \"randomforestclassifier\")\n",
    "\n",
    "        # mlflow.log_param(\"train-data-path\", \"data/creditcard_2023.csv\")\n",
    "        mlflow.log_param(\"data-path\", \"data/creditcard_2023.csv\")\n",
    "        mlflow.log_params(params)\n",
    "\n",
    "        pipeline = make_pipeline(\n",
    "            DictVectorizer(sparse=False), RandomForestClassifier(**params)\n",
    "        )\n",
    "\n",
    "        pipeline.fit(dicts_train, y_train.ravel())\n",
    "        y_pred = pipeline.predict_proba(dicts_val)[0:, 1]\n",
    "        rmse = mean_squared_error(y_val, y_pred, squared=False)\n",
    "\n",
    "        mlflow.log_metric(\"rmse\", rmse)\n",
    "\n",
    "        mlflow.sklearn.log_model(pipeline, artifact_path=\"model\")\n",
    "\n",
    "    return {\"loss\": rmse, \"status\": STATUS_OK}"
   ]
  },
  {
   "cell_type": "code",
   "execution_count": null,
   "id": "b22d44a273128864",
   "metadata": {
    "collapsed": false
   },
   "outputs": [],
   "source": [
    "search_space = {\n",
    "    \"n_estimators\": scope.int(hp.quniform(\"n_estimators\", 10, 21, 10)),\n",
    "    \"max_depth\": scope.int(hp.quniform(\"max_depth\", 4, 10, 1)),\n",
    "    \"random_state\": 11,\n",
    "    \"n_jobs\": -1,\n",
    "}\n",
    "best_result = fmin(\n",
    "    fn=objective, space=search_space, algo=tpe.suggest, max_evals=1, trials=Trials()\n",
    ")"
   ]
  },
  {
   "cell_type": "markdown",
   "id": "73b99ac50b15223f",
   "metadata": {
    "collapsed": false
   },
   "source": [
    "# Train final model training <a name = \"model_training\"></a>"
   ]
  },
  {
   "cell_type": "code",
   "execution_count": null,
   "id": "f0a71501ea2b8f2a",
   "metadata": {
    "collapsed": false
   },
   "outputs": [],
   "source": [
    "# train our model with the optimum parameters and enable autologging to see more parameter values\n",
    "\n",
    "params = {\n",
    "    \"n_estimators\": 170,\n",
    "    \"max_depth\": 36,\n",
    "    \"random_state\": 11,\n",
    "}\n",
    "\n",
    "mlflow.sklearn.autolog()\n",
    "\n",
    "with mlflow.start_run():\n",
    "    mlflow.set_tag(\"developer\", \"james\")\n",
    "    mlflow.set_tag(\"model\", \"randomforestclassifier\")\n",
    "\n",
    "    pipeline = make_pipeline(\n",
    "        DictVectorizer(sparse=False), RandomForestClassifier(**params)\n",
    "    )\n",
    "\n",
    "    pipeline.fit(dicts_train, y_train.ravel())\n",
    "    y_pred = pipeline.predict(dicts_val)\n",
    "    rmse = mean_squared_error(y_val, y_pred, squared=False)\n",
    "\n",
    "    mlflow.log_metric(\"rmse\", rmse)\n",
    "    \n",
    "# TODO: check the warnings that are being returned when this cell is executed."
   ]
  },
  {
   "cell_type": "code",
   "execution_count": null,
   "id": "9a46e72a00f03e57",
   "metadata": {
    "collapsed": false
   },
   "outputs": [],
   "source": []
  }
 ],
 "metadata": {
  "kernelspec": {
   "display_name": "Python 3",
   "language": "python",
   "name": "python3"
  },
  "language_info": {
   "codemirror_mode": {
    "name": "ipython",
    "version": 2
   },
   "file_extension": ".py",
   "mimetype": "text/x-python",
   "name": "python",
   "nbconvert_exporter": "python",
   "pygments_lexer": "ipython2",
   "version": "2.7.6"
  }
 },
 "nbformat": 4,
 "nbformat_minor": 5
}
